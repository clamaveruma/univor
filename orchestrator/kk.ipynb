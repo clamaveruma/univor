{
 "cells": [
  {
   "cell_type": "code",
   "execution_count": 2,
   "id": "6db278d4",
   "metadata": {},
   "outputs": [
    {
     "data": {
      "text/html": [
       "<pre style=\"white-space:pre;overflow-x:auto;line-height:normal;font-family:Menlo,'DejaVu Sans Mono',consolas,'Courier New',monospace\">length: <span style=\"color: #008080; text-decoration-color: #008080; font-weight: bold\">10</span>\n",
       "width: <span style=\"color: #008080; text-decoration-color: #008080; font-weight: bold\">5</span>\n",
       "height: <span style=\"color: #008080; text-decoration-color: #008080; font-weight: bold\">3</span>\n",
       "color: blue\n",
       "meta:\n",
       "  owner: Alice\n",
       "  location:\n",
       "    city: Paris\n",
       "    country: France\n",
       "tags:\n",
       "- storage\n",
       "- blue\n",
       "- nam:\n",
       "    large: <span style=\"color: #008080; text-decoration-color: #008080; font-weight: bold\">0</span>\n",
       "    a: <span style=\"color: #008080; text-decoration-color: #008080; font-weight: bold\">9</span>\n",
       "\n",
       "</pre>\n"
      ],
      "text/plain": [
       "length: \u001b[1;36m10\u001b[0m\n",
       "width: \u001b[1;36m5\u001b[0m\n",
       "height: \u001b[1;36m3\u001b[0m\n",
       "color: blue\n",
       "meta:\n",
       "  owner: Alice\n",
       "  location:\n",
       "    city: Paris\n",
       "    country: France\n",
       "tags:\n",
       "- storage\n",
       "- blue\n",
       "- nam:\n",
       "    large: \u001b[1;36m0\u001b[0m\n",
       "    a: \u001b[1;36m9\u001b[0m\n",
       "\n"
      ]
     },
     "metadata": {},
     "output_type": "display_data"
    }
   ],
   "source": [
    "from box import Box\n",
    "from rich import print as rprint\n",
    "\n",
    "\n",
    "# Create a nested Box object for better demonstration\n",
    "# Add a list to the variable\n",
    "\n",
    "a = Box({\n",
    "    \"length\": 10,\n",
    "    \"width\": 5,\n",
    "    \"height\": 3,\n",
    "    \"color\": \"blue\",\n",
    "    \"meta\": {\n",
    "        \"owner\": \"Alice\",\n",
    "        \"location\": {\"city\": \"Paris\", \"country\": \"France\"}\n",
    "    },\n",
    "    \"tags\": [\"storage\", \"blue\", {\"nam\":{\"large\":0,\"a\":9}}]\n",
    "})\n",
    "\n",
    "rprint(a.to_yaml())"
   ]
  },
  {
   "cell_type": "code",
   "execution_count": 3,
   "id": "251136d3",
   "metadata": {},
   "outputs": [],
   "source": [
    "from box import Box\n",
    "\n",
    "def merge_boxes(a: Box, b: Box, unique_strings_in_lists: bool = True) -> Box:\n",
    "    \"\"\"\n",
    "    Deep merge two Box objects:\n",
    "    - b overrides a.\n",
    "    - Dicts/Boxes are merged recursively.\n",
    "    - Lists:\n",
    "        * Single-key dicts/Boxes with same key → merge recursively\n",
    "        * Strings → append only if not already present (controlled by unique_strings_in_lists)\n",
    "        * Other elements → append\n",
    "    - Scalars/other values: overwritten by b\n",
    "    \"\"\"\n",
    "    result = Box(a.to_dict())\n",
    "\n",
    "    for key, b_val in b.items():\n",
    "        if key not in result:\n",
    "            result[key] = b_val\n",
    "            continue\n",
    "\n",
    "        a_val = result[key]\n",
    "\n",
    "        # Case 1: Both dicts/Boxes → merge recursively\n",
    "        if isinstance(a_val, (Box, dict)) and isinstance(b_val, (Box, dict)):\n",
    "            result[key] = merge_boxes(Box(a_val), Box(b_val), unique_strings_in_lists)\n",
    "\n",
    "        # Case 2: Both lists → merge elements\n",
    "        elif isinstance(a_val, list) and isinstance(b_val, list):\n",
    "            # Build id_map for single-key dicts/Boxes\n",
    "            id_map = {next(iter(item)): i for i, item in enumerate(a_val)\n",
    "                      if isinstance(item, (Box, dict)) and len(item) == 1}\n",
    "\n",
    "            for b_item in b_val:\n",
    "                if isinstance(b_item, (Box, dict)) and len(b_item) == 1:\n",
    "                    b_id = next(iter(b_item))\n",
    "                    if b_id in id_map:\n",
    "                        idx = id_map[b_id]\n",
    "                        a_val[idx] = merge_boxes(Box(a_val[idx]), Box(b_item), unique_strings_in_lists)\n",
    "                    else:\n",
    "                        a_val.append(b_item)\n",
    "                elif isinstance(b_item, str) and unique_strings_in_lists:\n",
    "                    if b_item not in a_val:\n",
    "                        a_val.append(b_item)\n",
    "                else:\n",
    "                    a_val.append(b_item)\n",
    "\n",
    "        # Case 3: Otherwise → overwrite\n",
    "        else:\n",
    "            result[key] = b_val\n",
    "\n",
    "    return result\n"
   ]
  },
  {
   "cell_type": "code",
   "execution_count": 6,
   "id": "a8a28856",
   "metadata": {},
   "outputs": [
    {
     "data": {
      "text/html": [
       "<pre style=\"white-space:pre;overflow-x:auto;line-height:normal;font-family:Menlo,'DejaVu Sans Mono',consolas,'Courier New',monospace\">length: <span style=\"color: #008080; text-decoration-color: #008080; font-weight: bold\">20</span>\n",
       "width: <span style=\"color: #008080; text-decoration-color: #008080; font-weight: bold\">8</span>\n",
       "height: <span style=\"color: #008080; text-decoration-color: #008080; font-weight: bold\">3</span>\n",
       "color: blue\n",
       "meta:\n",
       "  owner: Bob\n",
       "  location:\n",
       "    city: Berlin\n",
       "    country: France\n",
       "tags:\n",
       "- new\n",
       "- wooden\n",
       "material: wood\n",
       "\n",
       "</pre>\n"
      ],
      "text/plain": [
       "length: \u001b[1;36m20\u001b[0m\n",
       "width: \u001b[1;36m8\u001b[0m\n",
       "height: \u001b[1;36m3\u001b[0m\n",
       "color: blue\n",
       "meta:\n",
       "  owner: Bob\n",
       "  location:\n",
       "    city: Berlin\n",
       "    country: France\n",
       "tags:\n",
       "- new\n",
       "- wooden\n",
       "material: wood\n",
       "\n"
      ]
     },
     "metadata": {},
     "output_type": "display_data"
    },
    {
     "data": {
      "text/html": [
       "<pre style=\"white-space:pre;overflow-x:auto;line-height:normal;font-family:Menlo,'DejaVu Sans Mono',consolas,'Courier New',monospace\">length: <span style=\"color: #008080; text-decoration-color: #008080; font-weight: bold\">20</span>\n",
       "width: <span style=\"color: #008080; text-decoration-color: #008080; font-weight: bold\">8</span>\n",
       "height: <span style=\"color: #008080; text-decoration-color: #008080; font-weight: bold\">3</span>\n",
       "color: blue\n",
       "meta:\n",
       "  owner: Bob\n",
       "  location:\n",
       "    city: Berlin\n",
       "    country: France\n",
       "tags:\n",
       "- storage\n",
       "- blue\n",
       "- nam:\n",
       "    large: <span style=\"color: #008080; text-decoration-color: #008080; font-weight: bold\">0</span>\n",
       "    a: <span style=\"color: #008080; text-decoration-color: #008080; font-weight: bold\">9</span>\n",
       "- new\n",
       "- wooden\n",
       "material: wood\n",
       "\n",
       "</pre>\n"
      ],
      "text/plain": [
       "length: \u001b[1;36m20\u001b[0m\n",
       "width: \u001b[1;36m8\u001b[0m\n",
       "height: \u001b[1;36m3\u001b[0m\n",
       "color: blue\n",
       "meta:\n",
       "  owner: Bob\n",
       "  location:\n",
       "    city: Berlin\n",
       "    country: France\n",
       "tags:\n",
       "- storage\n",
       "- blue\n",
       "- nam:\n",
       "    large: \u001b[1;36m0\u001b[0m\n",
       "    a: \u001b[1;36m9\u001b[0m\n",
       "- new\n",
       "- wooden\n",
       "material: wood\n",
       "\n"
      ]
     },
     "metadata": {},
     "output_type": "display_data"
    }
   ],
   "source": [
    "# Create another Box object\n",
    "b2 = Box({\n",
    "    \"length\": 20,\n",
    "    \"width\": 8,\n",
    "    \"material\": \"wood\",\n",
    "    \"meta\": {\n",
    "        \"owner\": \"Bob\",\n",
    "        \"location\": {\"city\": \"Berlin\"}\n",
    "    },\n",
    "    \"tags\": [\"new\", \"wooden\"]\n",
    "})\n",
    "\n",
    "# Merge b2 into a, overwriting in case of collision\n",
    "#c= Box(a)\n",
    "#c.merge_update(b2)\n",
    "c= a + b2  # This will concatenate lists instead of overwriting\n",
    "d = merge_boxes(a, b2)  # This will do a deep merge with custom logic\n",
    "rprint(c.to_yaml())\n",
    "rprint(d.to_yaml()) "
   ]
  },
  {
   "cell_type": "code",
   "execution_count": 29,
   "id": "931e227c",
   "metadata": {},
   "outputs": [
    {
     "data": {
      "text/html": [
       "<pre style=\"white-space:pre;overflow-x:auto;line-height:normal;font-family:Menlo,'DejaVu Sans Mono',consolas,'Courier New',monospace\">a:\n",
       "  e:\n",
       "    f: <span style=\"color: #008080; text-decoration-color: #008080; font-weight: bold\">11</span>\n",
       "\n",
       "</pre>\n"
      ],
      "text/plain": [
       "a:\n",
       "  e:\n",
       "    f: \u001b[1;36m11\u001b[0m\n",
       "\n"
      ]
     },
     "metadata": {},
     "output_type": "display_data"
    }
   ],
   "source": [
    "tempbox=Box(default_box=True,box_dots=True)\n",
    "\n",
    "tempbox[\"a.e.f\"]=11\n",
    "rprint(tempbox.to_yaml())\n"
   ]
  }
 ],
 "metadata": {
  "kernelspec": {
   "display_name": ".venv",
   "language": "python",
   "name": "python3"
  },
  "language_info": {
   "codemirror_mode": {
    "name": "ipython",
    "version": 3
   },
   "file_extension": ".py",
   "mimetype": "text/x-python",
   "name": "python",
   "nbconvert_exporter": "python",
   "pygments_lexer": "ipython3",
   "version": "3.12.3"
  }
 },
 "nbformat": 4,
 "nbformat_minor": 5
}
