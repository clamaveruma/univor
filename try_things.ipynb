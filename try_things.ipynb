{
 "cells": [
  {
   "cell_type": "markdown",
   "id": "468be6cd",
   "metadata": {},
   "source": [
    "### Testing box"
   ]
  },
  {
   "cell_type": "code",
   "execution_count": 2,
   "id": "9dcce530",
   "metadata": {
    "vscode": {
     "languageId": "markdown"
    }
   },
   "outputs": [],
   "source": [
    "from box import Box\n",
    "a = Box({})"
   ]
  },
  {
   "cell_type": "code",
   "execution_count": null,
   "id": "cd023dc6",
   "metadata": {
    "vscode": {
     "languageId": "markdown"
    }
   },
   "outputs": [
    {
     "data": {
      "text/html": [
       "<pre style=\"white-space:pre;overflow-x:auto;line-height:normal;font-family:Menlo,'DejaVu Sans Mono',consolas,'Courier New',monospace\">length: <span style=\"color: #008080; text-decoration-color: #008080; font-weight: bold\">10</span>\n",
       "width: <span style=\"color: #008080; text-decoration-color: #008080; font-weight: bold\">5</span>\n",
       "height: <span style=\"color: #008080; text-decoration-color: #008080; font-weight: bold\">3</span>\n",
       "color: blue\n",
       "meta:\n",
       "  owner: Alice\n",
       "  location:\n",
       "    city: Paris\n",
       "    country: France\n",
       "tags:\n",
       "- storage\n",
       "- blue\n",
       "- large\n",
       "\n",
       "</pre>\n"
      ],
      "text/plain": [
       "length: \u001b[1;36m10\u001b[0m\n",
       "width: \u001b[1;36m5\u001b[0m\n",
       "height: \u001b[1;36m3\u001b[0m\n",
       "color: blue\n",
       "meta:\n",
       "  owner: Alice\n",
       "  location:\n",
       "    city: Paris\n",
       "    country: France\n",
       "tags:\n",
       "- storage\n",
       "- blue\n",
       "- large\n",
       "\n"
      ]
     },
     "metadata": {},
     "output_type": "display_data"
    }
   ],
   "source": [
    "from box import Box\n",
    "from rich import print as rprint\n",
    "from \n",
    "\n",
    "# Create a nested Box object for better demonstration\n",
    "# Add a list to the variable\n",
    "\n",
    "a = Box({\n",
    "    \"length\": 10,\n",
    "    \"width\": 5,\n",
    "    \"height\": 3,\n",
    "    \"color\": \"blue\",\n",
    "    \"meta\": {\n",
    "        \"owner\": \"Alice\",\n",
    "        \"location\": {\"city\": \"Paris\", \"country\": \"France\"}\n",
    "    },\n",
    "    \"tags\": [\"storage\", \"blue\", \"large\"]\n",
    "})\n",
    "\n",
    "# The yaml.dump() function supports the following arguments:\n",
    "#   - data: The object to serialize.\n",
    "#   - stream: A file-like object to write the YAML output to. If None, returns a string.\n",
    "#   - default_style: (str) Style for scalars ('\"', \"'\", '|', '>', etc.).\n",
    "#   - default_flow_style: (bool) Use block style (False, default) or flow style (True).\n",
    "#   - encoding: (str) Encoding for file output, default 'utf-8'.\n",
    "#   - allow_unicode: (bool) Allow unicode characters in output.\n",
    "#   - line_break: (str) Line break character.\n",
    "#   - Dumper: (class) Custom dumper class.\n",
    "#   - sort_keys: (bool) Sort dictionary keys in output (default True).\n",
    "#   - width: (int) Preferred line width.\n",
    "#   - indent: (int) Indentation level.\n",
    "#   - explicit_start: (bool) Start document with '---'.\n",
    "#   - explicit_end: (bool) End document with '...'.\n",
    "#   - version: (tuple) YAML version.\n",
    "#   - tags: (dict) Custom tag handles.\n",
    "rprint(a.)"
   ]
  },
  {
   "cell_type": "code",
   "execution_count": null,
   "id": "8cd82d3a",
   "metadata": {},
   "outputs": [],
   "source": []
  }
 ],
 "metadata": {
  "kernelspec": {
   "display_name": ".venv",
   "language": "python",
   "name": "python3"
  },
  "language_info": {
   "codemirror_mode": {
    "name": "ipython",
    "version": 3
   },
   "file_extension": ".py",
   "mimetype": "text/x-python",
   "name": "python",
   "nbconvert_exporter": "python",
   "pygments_lexer": "ipython3",
   "version": "3.12.3"
  }
 },
 "nbformat": 4,
 "nbformat_minor": 5
}
